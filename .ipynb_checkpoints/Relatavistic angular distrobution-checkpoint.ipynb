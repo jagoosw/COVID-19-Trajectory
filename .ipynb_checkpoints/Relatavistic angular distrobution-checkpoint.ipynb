{
 "cells": [
  {
   "cell_type": "code",
   "execution_count": null,
   "metadata": {},
   "outputs": [],
   "source": [
    "import numpy as np\n",
    "import random\n",
    "\n",
    "points = 100\n",
    "theta_=[]\n",
    "\n",
    "def get_x(theta):\n",
    "    return np.cos(theta)\n",
    "def get_y(theta):\n",
    "    return np.sin(theta)\n",
    "\n",
    "for i in range(0,points):\n",
    "    theta_.append(random.random()*2*3.14159)\n",
    "    \n",
    "v_x_ = map(get_x,thea_)\n",
    "v_y_ = map(get_y,theta_)\n",
    "\n",
    "v_x=map(trans_x,v_x_)\n",
    "v_y=map(trans_y,v_y_)\n"
   ]
  }
 ],
 "metadata": {
  "kernelspec": {
   "display_name": "Python 3",
   "language": "python",
   "name": "python3"
  },
  "language_info": {
   "codemirror_mode": {
    "name": "ipython",
    "version": 3
   },
   "file_extension": ".py",
   "mimetype": "text/x-python",
   "name": "python",
   "nbconvert_exporter": "python",
   "pygments_lexer": "ipython3",
   "version": "3.7.6"
  }
 },
 "nbformat": 4,
 "nbformat_minor": 4
}
