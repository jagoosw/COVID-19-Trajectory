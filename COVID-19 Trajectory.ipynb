{
 "cells": [
  {
   "cell_type": "markdown",
   "metadata": {},
   "source": [
    "# COVID-19 Trajectory"
   ]
  },
  {
   "cell_type": "markdown",
   "metadata": {},
   "source": [
    "This page produces a graph showing the trajectory of COVID-19 around the world (such as the one below).\n",
    "\n",
    "![Example Image](example.png)\n",
    "\n",
    "The total number of cases are plotted against the number of new cases in a partiucular time frame onto logged axes, this shows a suprisingly concistent rate of spread around the globe. The graph can then be used to see if a contries measures are actually helping to prevent the spread becuase the graph drops steaply when they get it under control.\n",
    "\n",
    "This graph is some what more useful than looking at a timeseries or unlogged graph because it is very hard to see the change in them. There is obviously some lag in the graphs but the time frame can be reduced although this makes it messier. There is an inherent lag in any representation of this data because of the time from catching the virus to showing symptoms.\n",
    "\n",
    "This graph shows how all the contries are so similar.\n",
    "![All Contries](all.png)"
   ]
  },
  {
   "cell_type": "markdown",
   "metadata": {},
   "source": [
    "## To run this for yourself follow the instructions below:"
   ]
  },
  {
   "cell_type": "markdown",
   "metadata": {},
   "source": [
    "These blocks just sets up the libraries and animation functions we need so needs to be run first."
   ]
  },
  {
   "cell_type": "code",
   "execution_count": 1,
   "metadata": {},
   "outputs": [],
   "source": [
    "import matplotlib\n",
    "import matplotlib.pyplot as plt\n",
    "import matplotlib.animation as animation\n",
    "import pandas as pd\n",
    "from matplotlib.ticker import ScalarFormatter, FormatStrFormatter\n",
    "import requests\n",
    "from IPython.display import HTML\n",
    "from matplotlib.animation import PillowWriter"
   ]
  },
  {
   "cell_type": "code",
   "execution_count": 2,
   "metadata": {},
   "outputs": [],
   "source": [
    "def init():\n",
    "    for line in plt_list:\n",
    "        line.set_data([],[])\n",
    "    return plt_list\n",
    "\n",
    "def animate(i):\n",
    "\tfor lnum,line in enumerate(plt_list[:int((len(plt_list)-len(quarantines)-len(selection))/2)]):\n",
    "\t\tline.set_data(totals[selection[lnum]][:i+1], data_week[selection[lnum]][:i+1])\n",
    "\n",
    "\tfor lnum,line in enumerate(plt_list[int((len(plt_list)-len(quarantines)-len(selection))/2):-len(quarantines)-len(selection)]):\n",
    "\t\tif (totals[selection[lnum]][i]>min_x) and (data_week[selection[lnum]][i]>min_y) :\n",
    "\t\t\tline.set_x(totals[selection[lnum]][i])\n",
    "\t\t\tline.set_y(data_week[selection[lnum]][i])\n",
    "\n",
    "\tqx=[]\n",
    "\tqy=[]\n",
    "\tfor time in list(quarantines.keys()):\n",
    "\t\tif i>=time:\n",
    "\t\t\tqx.append(totals[quarantines[time]][time])\n",
    "\t\t\tqy.append(data_week[quarantines[time]][time])\n",
    "\t\telse:\n",
    "\t\t\tqx.append(1)\n",
    "\t\t\tqy.append(1)\n",
    "\n",
    "\n",
    "\tfor lnum,line in enumerate(plt_list[-len(quarantines)-len(selection):-len(selection)]):\n",
    "\t\tline.set_data(qx[lnum], qy[lnum])\n",
    "\n",
    "\tfor lnum,line in enumerate(plt_list[-len(selection):]):\n",
    "\t\tline.set_data(totals[selection[lnum]][i], data_week[selection[lnum]][i])\n",
    "\n",
    "\treturn plt_list"
   ]
  },
  {
   "cell_type": "markdown",
   "metadata": {},
   "source": [
    "Change these settings:"
   ]
  },
  {
   "cell_type": "code",
   "execution_count": 3,
   "metadata": {},
   "outputs": [],
   "source": [
    "num_days = 5 #The number of days the new cases are counted over\n",
    "all_places = False #Show all the places in the world\n",
    "show_quarantine = True #Show the days that lockdowns started in the contries set below\n",
    "show_legend = True #Show the legend (unhelpful for lots of contries)\n",
    "selection = [\"United Kingdom\", \"China\", \"Japan\",\"South Korea\",\"United States\",\"Spain\",\"Italy\",\"Austria\"] #The contries you want to see if not all\n",
    "quarantines= {\"2020-03-26\":\"United Kingdom\", \"2020-01-27\":\"China\",\"2020-02-22\":\"South Korea\",\"2020-03-10\":\"Italy\",\"2020-03-19\":\"Austria\"} #The days lockdown started in different contries\n",
    "use_deaths = False #Use deaths or cases data (deaths is less smooth)\n",
    "save_gif = False #Save as a gif (don't show animation)"
   ]
  },
  {
   "cell_type": "markdown",
   "metadata": {},
   "source": [
    "This gets and sorts the data, don't change anything here."
   ]
  },
  {
   "cell_type": "code",
   "execution_count": null,
   "metadata": {},
   "outputs": [],
   "source": [
    "if use_deaths == False:\n",
    "    choice = \"cases\"\n",
    "else:\n",
    "    choice = \"deaths\"\n",
    "link = \"https://covid.ourworldindata.org/data/ecdc/new_%s.csv\"%choice\n",
    "f = requests.get(link)\n",
    "\n",
    "with open(\"%s_new.csv\"%choice,\"w+\") as out:\n",
    "    out.seek(0)\n",
    "    out.write(f.text)\n",
    "    out.truncate()\n",
    "\n",
    "pd.read_csv(\"%s_new.csv\"%choice, header=None).T.to_csv(\"%s_new_t.csv\"%choice, header=False, index=False)\n",
    "\n",
    "with open(\"%s_new_t.csv\"%choice) as f:\n",
    "\tdata = f.read()\n",
    "    \n",
    "data = data.split(\"\\n\")\n",
    "data2 = dict()\n",
    "\n",
    "dates = data[0].split(\",\")\n",
    "data = data[1:]\n",
    "\n",
    "for line in data:\n",
    "\tline = line.split(\",\")\n",
    "\td = line[1:]\n",
    "\tc=list()\n",
    "\tfor i in d:\n",
    "\t\tif i ==\"\":\n",
    "\t\t\ti=0\n",
    "\t\tc.append(float(i))\n",
    "\tdata2[line[0]]=c\n",
    "\n",
    "data = data2\n",
    "if \"World\" in list(data.keys()):\n",
    "    data.pop(\"World\")\n",
    "if \"International\" in list(data.keys()):\n",
    "    data.pop(\"International\")\n",
    "data.pop(\"\")\n",
    "\n",
    "totals = dict()\n",
    "for place in list(data.keys()):\n",
    "\ttotal=list()\n",
    "\tline = data[place]\n",
    "\tc=1\n",
    "\ttotal.append(line[0])\n",
    "\twhile c<len(line):\n",
    "\t\ttotal.append(line[c]+total[c-1])\n",
    "\t\tc+=1\n",
    "\ttotals[place] = total\n",
    "\n",
    "data_week = dict()\n",
    "totals_week = dict()\n",
    "for place in list(data.keys()):\n",
    "\tline = data[place]\n",
    "\tweek = list()\n",
    "\tweek = [line[0],line[0]+line[1],line[0]+line[1]+line[2],line[0]+line[1]+line[2]+line[3]]\n",
    "\tc=num_days\n",
    "\twhile c<len(line):\n",
    "\t\tn = 0\n",
    "\t\tadd = 0\n",
    "\t\twhile n<num_days:\n",
    "\t\t\tadd+=line[c-n]\n",
    "\t\t\tn+=1\n",
    "\t\tc+=1\n",
    "\t\tweek.append(add)\n",
    "\tdata_week[place]=week\n",
    "\n",
    "\ttotal = totals[place]\n",
    "\tweek = list()\n",
    "\tc=0\n",
    "\twhile c<len(line):\n",
    "\t\tweek.append(line[c])\n",
    "\t\tc+=num_days\n",
    "\ttotals_week[place]=week\n",
    "\n",
    "quarantines_tmp=dict()\n",
    "for d in list(quarantines.keys()):\n",
    "    quarantines_tmp[dates.index(d)]=quarantines[d]\n",
    "    \n",
    "quarantines = quarantines_tmp"
   ]
  },
  {
   "cell_type": "markdown",
   "metadata": {},
   "source": [
    "This makes the plot."
   ]
  },
  {
   "cell_type": "code",
   "execution_count": null,
   "metadata": {},
   "outputs": [],
   "source": [
    "fig = plt.figure(figsize=(18,10))\n",
    "plt.xlabel(\"Total cases\",fontsize=20)\n",
    "plt.ylabel(\"New cases (in the last %s days)\"%num_days,fontsize=20)\n",
    "plt.title(\"Trajectory of COVID-19 cases %s\"%dates[-1],fontsize=20)\n",
    "\n",
    "ax = fig.add_subplot(111)\n",
    "ax.set_yscale('log')\n",
    "ax.set_xscale('log')\n",
    "ax.xaxis.set_major_formatter(FormatStrFormatter('%.0f'))\n",
    "ax.yaxis.set_major_formatter(FormatStrFormatter('%.0f'))\n",
    "\n",
    "if all_places==True:\n",
    "\tselection=list(data.keys())\n",
    "\n",
    "if show_quarantine==False:\n",
    "\tquarantines={}\n",
    "max_x = 0\n",
    "max_y = 0\n",
    "\n",
    "for contry in selection:\n",
    "\tfor i in range(len(data_week[contry])):\n",
    "\t\tcontry_max_y = max(data_week[contry])\n",
    "\t\tcontry_max_x = max(totals[contry])\n",
    "\t\tif contry_max_y > max_y:\n",
    "\t\t\tmax_y = contry_max_y\n",
    "\t\tif contry_max_x > max_x:\n",
    "\t\t\tmax_x = contry_max_x\n",
    "\n",
    "min_x = 60\n",
    "min_y = 8\n",
    "plt.xlim(left=min_x)\n",
    "plt.ylim(bottom=min_y)\n",
    "plt.xlim(right=max_x+100000)\n",
    "plt.ylim(top=max_y+10000)\n",
    "\n",
    "ann_list = []\n",
    "plt_list = []\n",
    "\n",
    "for i in selection:\n",
    "\t#color=\"grey\",\n",
    "\tlobj = ax.plot([],[],lw=1, label=i)[0]\n",
    "\tplt_list.append(lobj)\n",
    "\n",
    "for i in selection:\n",
    "\tlobj = ax.text(1,1, i)\n",
    "\tplt_list.append(lobj)\n",
    "\n",
    "for i in list(quarantines.keys()):\n",
    "\tlobj = ax.plot([],[],\"ro\")[0]\n",
    "\tplt_list.append(lobj)\n",
    "\n",
    "for i in selection:\n",
    "\tlobj = ax.plot([],[],\"kx\")[0]\n",
    "\tplt_list.append(lobj)\n",
    "\n",
    "for line in plt_list[0:int((len(plt_list)-len(quarantines)-len(selection))/2)]:\n",
    "\tline.set_data([],[])\n",
    "\n",
    "a = animation.FuncAnimation(fig, animate, frames = len(data_week[selection[0]])-1, interval=100, blit=True, repeat=False)\n",
    "\n",
    "if show_legend==True:\n",
    "\tplt.legend(loc=\"upper left\")\n",
    "    \n",
    "if show_quarantine == True:\n",
    "    plt.text(0.95, 0.03,'Red dot shows the \\nstart of lockdowns', horizontalalignment='center', verticalalignment='center', transform = ax.transAxes)\n",
    "    \n",
    "HTML(a.to_jshtml())"
   ]
  },
  {
   "cell_type": "markdown",
   "metadata": {},
   "source": [
    "Run the block below to show the animation (it may take a little while)."
   ]
  },
  {
   "cell_type": "code",
   "execution_count": null,
   "metadata": {},
   "outputs": [],
   "source": [
    "a"
   ]
  },
  {
   "cell_type": "markdown",
   "metadata": {},
   "source": [
    "Notes: I should have used Pandas for the whole thing but when I started I thought this would be a quick simple project"
   ]
  }
 ],
 "metadata": {
  "kernelspec": {
   "display_name": "Python 3",
   "language": "python",
   "name": "python3"
  },
  "language_info": {
   "codemirror_mode": {
    "name": "ipython",
    "version": 3
   },
   "file_extension": ".py",
   "mimetype": "text/x-python",
   "name": "python",
   "nbconvert_exporter": "python",
   "pygments_lexer": "ipython3",
   "version": "3.7.6"
  }
 },
 "nbformat": 4,
 "nbformat_minor": 4
}
