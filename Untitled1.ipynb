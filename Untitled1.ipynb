{
 "cells": [
  {
   "cell_type": "code",
   "execution_count": 1,
   "metadata": {},
   "outputs": [],
   "source": [
    "import matplotlib.pyplot as plt\n",
    "import numpy as np"
   ]
  },
  {
   "cell_type": "markdown",
   "metadata": {},
   "source": [
    "The rate of change of cases is proportional to the number of cases ($c$), how transmissive the virus is ($T_R$), the $R$ number and other factors so we can write:\n",
    "\n",
    "$\\frac{dC}{dt}\\propto T_RRC$\n",
    "\n",
    "This is solved by:\n",
    "\n",
    "$\\frac{1}{C}dC\\propto T_RRdt$\n",
    "\n",
    "$\\ln C\\propto tT_RR$\n",
    "\n",
    "$C\\propto e^{tT_R R}$\n",
    "\n",
    "Arbitarily setting $R$ to 1 and then plotting with $t=1$ and $t=1.7$ (70% more) and the graph looks like:"
   ]
  },
  {
   "cell_type": "code",
   "execution_count": 26,
   "metadata": {},
   "outputs": [
    {
     "data": {
      "text/plain": [
       "Text(0, 0.5, 'Cases')"
      ]
     },
     "execution_count": 26,
     "metadata": {},
     "output_type": "execute_result"
    },
    {
     "data": {
      "image/png": "[encoded data removed]",
      "text/plain": [
       "<Figure size 432x288 with 1 Axes>"
      ]
     },
     "metadata": {},
     "output_type": "display_data"
    }
   ],
   "source": [
    "t=np.linspace(0,5,1000)\n",
    "r=1\n",
    "t_r=1\n",
    "c_1=np.exp(r*t_r*t)\n",
    "t_r=1.7\n",
    "c_2=np.exp(r*t_r*t)\n",
    "\n",
    "\n",
    "plt.plot(t,c_1)\n",
    "plt.plot(t,c_2)\n",
    "plt.xticks([]),plt.yticks([])\n",
    "plt.xlabel(\"Time\")\n",
    "plt.ylabel(\"Cases\")"
   ]
  },
  {
   "cell_type": "markdown",
   "metadata": {},
   "source": [
    "Just to show the other factors don't effect the *shape* of this relationship setting $R=0.5$:"
   ]
  },
  {
   "cell_type": "code",
   "execution_count": 28,
   "metadata": {},
   "outputs": [
    {
     "data": {
      "text/plain": [
       "Text(0, 0.5, 'Cases')"
      ]
     },
     "execution_count": 28,
     "metadata": {},
     "output_type": "execute_result"
    },
    {
     "data": {
      "image/png": "[encoded data removed]",
      "text/plain": [
       "<Figure size 432x288 with 1 Axes>"
      ]
     },
     "metadata": {},
     "output_type": "display_data"
    }
   ],
   "source": [
    "t=np.linspace(0,10,1000)\n",
    "r=0.5\n",
    "t_r=1\n",
    "c_1=np.exp(r*t_r*t)\n",
    "t_r=1.7\n",
    "c_2=np.exp(r*t_r*t)\n",
    "\n",
    "\n",
    "\n",
    "plt.plot(t,c_1)\n",
    "plt.plot(t,c_2)\n",
    "plt.xticks([]),plt.yticks([])\n",
    "plt.xlabel(\"Time\")\n",
    "plt.ylabel(\"Cases\")"
   ]
  },
  {
   "cell_type": "code",
   "execution_count": null,
   "metadata": {},
   "outputs": [],
   "source": []
  }
 ],
 "metadata": {
  "kernelspec": {
   "display_name": "Python 3",
   "language": "python",
   "name": "python3"
  },
  "language_info": {
   "codemirror_mode": {
    "name": "ipython",
    "version": 3
   },
   "file_extension": ".py",
   "mimetype": "text/x-python",
   "name": "python",
   "nbconvert_exporter": "python",
   "pygments_lexer": "ipython3",
   "version": "3.7.6"
  }
 },
 "nbformat": 4,
 "nbformat_minor": 4
}
